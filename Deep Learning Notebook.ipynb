{
 "cells": [
  {
   "cell_type": "markdown",
   "id": "ea1e0a01",
   "metadata": {},
   "source": [
    "# Deep Learning\n",
    "Deep learning is method in AI, that focus on teaching computer to process data as inspired by human brain"
   ]
  },
  {
   "cell_type": "code",
   "execution_count": 1,
   "id": "74fcf8f4",
   "metadata": {},
   "outputs": [
    {
     "name": "stdout",
     "output_type": "stream",
     "text": [
      "Requirement already satisfied: pip in c:\\users\\kenneth\\anaconda3\\lib\\site-packages (24.0)\n",
      "Note: you may need to restart the kernel to use updated packages.\n"
     ]
    }
   ],
   "source": [
    "pip install --upgrade pip"
   ]
  },
  {
   "cell_type": "code",
   "execution_count": 2,
   "id": "d0f0b9ff",
   "metadata": {},
   "outputs": [
    {
     "name": "stdout",
     "output_type": "stream",
     "text": [
      "Available Themes: \n",
      "   chesterish\n",
      "   grade3\n",
      "   gruvboxd\n",
      "   gruvboxl\n",
      "   monokai\n",
      "   oceans16\n",
      "   onedork\n",
      "   solarizedd\n",
      "   solarizedl\n"
     ]
    }
   ],
   "source": [
    "!jt -l"
   ]
  },
  {
   "cell_type": "code",
   "execution_count": 3,
   "id": "69cc67b6",
   "metadata": {},
   "outputs": [],
   "source": [
    "#!jt -t oceans16 -T"
   ]
  },
  {
   "cell_type": "code",
   "execution_count": 4,
   "id": "47570712",
   "metadata": {},
   "outputs": [],
   "source": [
    "#pip install tensorflow"
   ]
  },
  {
   "cell_type": "code",
   "execution_count": 5,
   "id": "3ca144b3",
   "metadata": {},
   "outputs": [
    {
     "name": "stderr",
     "output_type": "stream",
     "text": [
      "C:\\Users\\KENNETH\\anaconda3\\lib\\site-packages\\scipy\\__init__.py:155: UserWarning: A NumPy version >=1.18.5 and <1.25.0 is required for this version of SciPy (detected version 1.26.4\n",
      "  warnings.warn(f\"A NumPy version >={np_minversion} and <{np_maxversion}\"\n"
     ]
    },
    {
     "name": "stdout",
     "output_type": "stream",
     "text": [
      "WARNING:tensorflow:From C:\\Users\\KENNETH\\anaconda3\\lib\\site-packages\\keras\\src\\losses.py:2976: The name tf.losses.sparse_softmax_cross_entropy is deprecated. Please use tf.compat.v1.losses.sparse_softmax_cross_entropy instead.\n",
      "\n"
     ]
    }
   ],
   "source": [
    "import tensorflow"
   ]
  },
  {
   "cell_type": "code",
   "execution_count": 34,
   "id": "86ab171b",
   "metadata": {},
   "outputs": [],
   "source": [
    "import numpy as np\n",
    "import matplotlib.pyplot as plt\n",
    "import pandas as pd\n",
    "import tensorflow as tf\n",
    "from tensorflow import keras\n",
    "from tensorflow.keras import layers\n",
    "import warnings\n",
    "warnings.filterwarnings(\"ignore\")"
   ]
  },
  {
   "cell_type": "markdown",
   "id": "6b1bcb4b",
   "metadata": {},
   "source": [
    "# Build the model\n",
    "building a naive model\n",
    "- dense = the line joining the layers\n",
    "- input_shape = the number of features\n",
    "- Backward propagating: commanding the machine to redo a task in order to actualize the desired result"
   ]
  },
  {
   "cell_type": "code",
   "execution_count": 16,
   "id": "78ea35f5",
   "metadata": {},
   "outputs": [],
   "source": [
    "network = keras.Sequential([  \n",
    "    layers.Dense(units=3, input_shape=[1]), # Input layer\n",
    "    layers.Activation('relu'),\n",
    "    \n",
    "      layers.Dense(units=4),  # first hidden layer\n",
    "    layers.Activation('relu'),\n",
    "      layers.Dense(units=4), # second Hidden layer\n",
    "     layers.Activation('relu'),\n",
    "    \n",
    "    \n",
    "      layers.Dense(units=1), # output layer\n",
    "     layers.Activation('relu')\n",
    "\n",
    "\n",
    "])"
   ]
  },
  {
   "cell_type": "code",
   "execution_count": 17,
   "id": "30dd20a2",
   "metadata": {},
   "outputs": [
    {
     "data": {
      "text/plain": [
       "[<tf.Variable 'dense_4/kernel:0' shape=(1, 3) dtype=float32, numpy=array([[-1.0742629 ,  0.10376847,  0.4626193 ]], dtype=float32)>,\n",
       " <tf.Variable 'dense_4/bias:0' shape=(3,) dtype=float32, numpy=array([0., 0., 0.], dtype=float32)>,\n",
       " <tf.Variable 'dense_5/kernel:0' shape=(3, 4) dtype=float32, numpy=\n",
       " array([[-0.61167336, -0.82987905, -0.1894061 , -0.15992373],\n",
       "        [ 0.34653294,  0.08915544,  0.22622561, -0.90357906],\n",
       "        [ 0.9056008 , -0.49153402,  0.86041415,  0.12082708]],\n",
       "       dtype=float32)>,\n",
       " <tf.Variable 'dense_5/bias:0' shape=(4,) dtype=float32, numpy=array([0., 0., 0., 0.], dtype=float32)>,\n",
       " <tf.Variable 'dense_6/kernel:0' shape=(4, 4) dtype=float32, numpy=\n",
       " array([[ 0.79448086, -0.28396863,  0.8600456 ,  0.3803864 ],\n",
       "        [ 0.67105037, -0.18718314, -0.4451432 ,  0.3683694 ],\n",
       "        [-0.861378  ,  0.50800604,  0.45203966,  0.06627524],\n",
       "        [-0.22060984,  0.6944575 ,  0.23078007, -0.2425263 ]],\n",
       "       dtype=float32)>,\n",
       " <tf.Variable 'dense_6/bias:0' shape=(4,) dtype=float32, numpy=array([0., 0., 0., 0.], dtype=float32)>,\n",
       " <tf.Variable 'dense_7/kernel:0' shape=(4, 1) dtype=float32, numpy=\n",
       " array([[0.84103405],\n",
       "        [0.2709787 ],\n",
       "        [0.558566  ],\n",
       "        [0.6115228 ]], dtype=float32)>,\n",
       " <tf.Variable 'dense_7/bias:0' shape=(1,) dtype=float32, numpy=array([0.], dtype=float32)>]"
      ]
     },
     "execution_count": 17,
     "metadata": {},
     "output_type": "execute_result"
    }
   ],
   "source": [
    "network.weights"
   ]
  },
  {
   "cell_type": "code",
   "execution_count": 18,
   "id": "57380ed5",
   "metadata": {},
   "outputs": [
    {
     "name": "stdout",
     "output_type": "stream",
     "text": [
      "4/4 [==============================] - 0s 2ms/step\n"
     ]
    }
   ],
   "source": [
    "x = tf.linspace(-1.0,1.0, 100)\n",
    "y = network.predict(x)"
   ]
  },
  {
   "cell_type": "code",
   "execution_count": null,
   "id": "ad197a99",
   "metadata": {},
   "outputs": [],
   "source": []
  },
  {
   "cell_type": "code",
   "execution_count": 19,
   "id": "5edcf598",
   "metadata": {},
   "outputs": [
    {
     "data": {
      "text/plain": [
       "[<matplotlib.lines.Line2D at 0x26a19f55280>]"
      ]
     },
     "execution_count": 19,
     "metadata": {},
     "output_type": "execute_result"
    },
    {
     "data": {
      "image/png": "[encoded data removed]",
      "text/plain": [
       "<Figure size 640x480 with 1 Axes>"
      ]
     },
     "metadata": {},
     "output_type": "display_data"
    }
   ],
   "source": [
    "plt.plot(x,y,'k')"
   ]
  },
  {
   "cell_type": "code",
   "execution_count": null,
   "id": "ed776fe4",
   "metadata": {},
   "outputs": [],
   "source": []
  },
  {
   "cell_type": "markdown",
   "id": "b6763649",
   "metadata": {},
   "source": [
    "# Compile the model\n",
    "what to do and how to do it\n",
    "- matrics used for improvement of the model while in classification, it is used for evaluation"
   ]
  },
  {
   "cell_type": "code",
   "execution_count": 11,
   "id": "78675f68",
   "metadata": {},
   "outputs": [],
   "source": [
    "# Loss function for regression\n",
    "# network.compile(loss = 'mean_squared_error', optimizer = 'adam', metrics = 'mean_squared_error')\n",
    "# network.compile(loss = 'mean_absolute_error', optimizer = 'your_optimizer') "
   ]
  },
  {
   "cell_type": "code",
   "execution_count": 12,
   "id": "89f95e6e",
   "metadata": {},
   "outputs": [
    {
     "ename": "IndentationError",
     "evalue": "unexpected indent (4132012567.py, line 2)",
     "output_type": "error",
     "traceback": [
      "\u001b[1;36m  File \u001b[1;32m\"C:\\Users\\KENNETH\\AppData\\Local\\Temp\\ipykernel_7756\\4132012567.py\"\u001b[1;36m, line \u001b[1;32m2\u001b[0m\n\u001b[1;33m    network.compile(Loss= 'binary_crossentropy',optimizer= 'adam')\u001b[0m\n\u001b[1;37m    ^\u001b[0m\n\u001b[1;31mIndentationError\u001b[0m\u001b[1;31m:\u001b[0m unexpected indent\n"
     ]
    }
   ],
   "source": [
    "# # Loss function for classification\n",
    " network.compile(Loss= 'binary_crossentropy',optimizer= 'adam')\n",
    "# network.compile(Loss= 'categorical_crossentropy',optimizer= 'your_optimizer')\n",
    "# network.compile(Loss= 'sparse_categorical_crossentropy',optimizer= 'your_optimizer')\n",
    "# network.compile(Loss= 'hinge',optimizer= 'your_optimizer')\n",
    "# network.compile(Loss= 'kullback_leibler_divergence',optimizer= 'your_optimizer')"
   ]
  },
  {
   "cell_type": "code",
   "execution_count": null,
   "id": "64fce995",
   "metadata": {},
   "outputs": [],
   "source": []
  },
  {
   "cell_type": "markdown",
   "id": "6ecb464d",
   "metadata": {},
   "source": [
    "# Train the model\n",
    "training the machine"
   ]
  },
  {
   "cell_type": "code",
   "execution_count": null,
   "id": "b9af4534",
   "metadata": {},
   "outputs": [],
   "source": [
    "history = network.fit(x= ,y= , batch_size=200, epochs=10)"
   ]
  },
  {
   "cell_type": "code",
   "execution_count": 21,
   "id": "35d4bfdc",
   "metadata": {},
   "outputs": [],
   "source": [
    "Table =pd.read_csv(\"winequality-red.csv\")"
   ]
  },
  {
   "cell_type": "code",
   "execution_count": 22,
   "id": "3d0540f4",
   "metadata": {},
   "outputs": [
    {
     "data": {
      "text/html": [
       "<div>\n",
       "<style scoped>\n",
       "    .dataframe tbody tr th:only-of-type {\n",
       "        vertical-align: middle;\n",
       "    }\n",
       "\n",
       "    .dataframe tbody tr th {\n",
       "        vertical-align: top;\n",
       "    }\n",
       "\n",
       "    .dataframe thead th {\n",
       "        text-align: right;\n",
       "    }\n",
       "</style>\n",
       "<table border=\"1\" class=\"dataframe\">\n",
       "  <thead>\n",
       "    <tr style=\"text-align: right;\">\n",
       "      <th></th>\n",
       "      <th>fixed acidity</th>\n",
       "      <th>volatile acidity</th>\n",
       "      <th>citric acid</th>\n",
       "      <th>residual sugar</th>\n",
       "      <th>chlorides</th>\n",
       "      <th>free sulfur dioxide</th>\n",
       "      <th>total sulfur dioxide</th>\n",
       "      <th>density</th>\n",
       "      <th>pH</th>\n",
       "      <th>sulphates</th>\n",
       "      <th>alcohol</th>\n",
       "      <th>quality</th>\n",
       "    </tr>\n",
       "  </thead>\n",
       "  <tbody>\n",
       "    <tr>\n",
       "      <th>0</th>\n",
       "      <td>7.4</td>\n",
       "      <td>0.700</td>\n",
       "      <td>0.00</td>\n",
       "      <td>1.9</td>\n",
       "      <td>0.076</td>\n",
       "      <td>11.0</td>\n",
       "      <td>34.0</td>\n",
       "      <td>0.99780</td>\n",
       "      <td>3.51</td>\n",
       "      <td>0.56</td>\n",
       "      <td>9.4</td>\n",
       "      <td>5</td>\n",
       "    </tr>\n",
       "    <tr>\n",
       "      <th>1</th>\n",
       "      <td>7.8</td>\n",
       "      <td>0.880</td>\n",
       "      <td>0.00</td>\n",
       "      <td>2.6</td>\n",
       "      <td>0.098</td>\n",
       "      <td>25.0</td>\n",
       "      <td>67.0</td>\n",
       "      <td>0.99680</td>\n",
       "      <td>3.20</td>\n",
       "      <td>0.68</td>\n",
       "      <td>9.8</td>\n",
       "      <td>5</td>\n",
       "    </tr>\n",
       "    <tr>\n",
       "      <th>2</th>\n",
       "      <td>7.8</td>\n",
       "      <td>0.760</td>\n",
       "      <td>0.04</td>\n",
       "      <td>2.3</td>\n",
       "      <td>0.092</td>\n",
       "      <td>15.0</td>\n",
       "      <td>54.0</td>\n",
       "      <td>0.99700</td>\n",
       "      <td>3.26</td>\n",
       "      <td>0.65</td>\n",
       "      <td>9.8</td>\n",
       "      <td>5</td>\n",
       "    </tr>\n",
       "    <tr>\n",
       "      <th>3</th>\n",
       "      <td>11.2</td>\n",
       "      <td>0.280</td>\n",
       "      <td>0.56</td>\n",
       "      <td>1.9</td>\n",
       "      <td>0.075</td>\n",
       "      <td>17.0</td>\n",
       "      <td>60.0</td>\n",
       "      <td>0.99800</td>\n",
       "      <td>3.16</td>\n",
       "      <td>0.58</td>\n",
       "      <td>9.8</td>\n",
       "      <td>6</td>\n",
       "    </tr>\n",
       "    <tr>\n",
       "      <th>4</th>\n",
       "      <td>7.4</td>\n",
       "      <td>0.700</td>\n",
       "      <td>0.00</td>\n",
       "      <td>1.9</td>\n",
       "      <td>0.076</td>\n",
       "      <td>11.0</td>\n",
       "      <td>34.0</td>\n",
       "      <td>0.99780</td>\n",
       "      <td>3.51</td>\n",
       "      <td>0.56</td>\n",
       "      <td>9.4</td>\n",
       "      <td>5</td>\n",
       "    </tr>\n",
       "    <tr>\n",
       "      <th>...</th>\n",
       "      <td>...</td>\n",
       "      <td>...</td>\n",
       "      <td>...</td>\n",
       "      <td>...</td>\n",
       "      <td>...</td>\n",
       "      <td>...</td>\n",
       "      <td>...</td>\n",
       "      <td>...</td>\n",
       "      <td>...</td>\n",
       "      <td>...</td>\n",
       "      <td>...</td>\n",
       "      <td>...</td>\n",
       "    </tr>\n",
       "    <tr>\n",
       "      <th>1594</th>\n",
       "      <td>6.2</td>\n",
       "      <td>0.600</td>\n",
       "      <td>0.08</td>\n",
       "      <td>2.0</td>\n",
       "      <td>0.090</td>\n",
       "      <td>32.0</td>\n",
       "      <td>44.0</td>\n",
       "      <td>0.99490</td>\n",
       "      <td>3.45</td>\n",
       "      <td>0.58</td>\n",
       "      <td>10.5</td>\n",
       "      <td>5</td>\n",
       "    </tr>\n",
       "    <tr>\n",
       "      <th>1595</th>\n",
       "      <td>5.9</td>\n",
       "      <td>0.550</td>\n",
       "      <td>0.10</td>\n",
       "      <td>2.2</td>\n",
       "      <td>0.062</td>\n",
       "      <td>39.0</td>\n",
       "      <td>51.0</td>\n",
       "      <td>0.99512</td>\n",
       "      <td>3.52</td>\n",
       "      <td>0.76</td>\n",
       "      <td>11.2</td>\n",
       "      <td>6</td>\n",
       "    </tr>\n",
       "    <tr>\n",
       "      <th>1596</th>\n",
       "      <td>6.3</td>\n",
       "      <td>0.510</td>\n",
       "      <td>0.13</td>\n",
       "      <td>2.3</td>\n",
       "      <td>0.076</td>\n",
       "      <td>29.0</td>\n",
       "      <td>40.0</td>\n",
       "      <td>0.99574</td>\n",
       "      <td>3.42</td>\n",
       "      <td>0.75</td>\n",
       "      <td>11.0</td>\n",
       "      <td>6</td>\n",
       "    </tr>\n",
       "    <tr>\n",
       "      <th>1597</th>\n",
       "      <td>5.9</td>\n",
       "      <td>0.645</td>\n",
       "      <td>0.12</td>\n",
       "      <td>2.0</td>\n",
       "      <td>0.075</td>\n",
       "      <td>32.0</td>\n",
       "      <td>44.0</td>\n",
       "      <td>0.99547</td>\n",
       "      <td>3.57</td>\n",
       "      <td>0.71</td>\n",
       "      <td>10.2</td>\n",
       "      <td>5</td>\n",
       "    </tr>\n",
       "    <tr>\n",
       "      <th>1598</th>\n",
       "      <td>6.0</td>\n",
       "      <td>0.310</td>\n",
       "      <td>0.47</td>\n",
       "      <td>3.6</td>\n",
       "      <td>0.067</td>\n",
       "      <td>18.0</td>\n",
       "      <td>42.0</td>\n",
       "      <td>0.99549</td>\n",
       "      <td>3.39</td>\n",
       "      <td>0.66</td>\n",
       "      <td>11.0</td>\n",
       "      <td>6</td>\n",
       "    </tr>\n",
       "  </tbody>\n",
       "</table>\n",
       "<p>1599 rows × 12 columns</p>\n",
       "</div>"
      ],
      "text/plain": [
       "      fixed acidity  volatile acidity  citric acid  residual sugar  chlorides  \\\n",
       "0               7.4             0.700         0.00             1.9      0.076   \n",
       "1               7.8             0.880         0.00             2.6      0.098   \n",
       "2               7.8             0.760         0.04             2.3      0.092   \n",
       "3              11.2             0.280         0.56             1.9      0.075   \n",
       "4               7.4             0.700         0.00             1.9      0.076   \n",
       "...             ...               ...          ...             ...        ...   \n",
       "1594            6.2             0.600         0.08             2.0      0.090   \n",
       "1595            5.9             0.550         0.10             2.2      0.062   \n",
       "1596            6.3             0.510         0.13             2.3      0.076   \n",
       "1597            5.9             0.645         0.12             2.0      0.075   \n",
       "1598            6.0             0.310         0.47             3.6      0.067   \n",
       "\n",
       "      free sulfur dioxide  total sulfur dioxide  density    pH  sulphates  \\\n",
       "0                    11.0                  34.0  0.99780  3.51       0.56   \n",
       "1                    25.0                  67.0  0.99680  3.20       0.68   \n",
       "2                    15.0                  54.0  0.99700  3.26       0.65   \n",
       "3                    17.0                  60.0  0.99800  3.16       0.58   \n",
       "4                    11.0                  34.0  0.99780  3.51       0.56   \n",
       "...                   ...                   ...      ...   ...        ...   \n",
       "1594                 32.0                  44.0  0.99490  3.45       0.58   \n",
       "1595                 39.0                  51.0  0.99512  3.52       0.76   \n",
       "1596                 29.0                  40.0  0.99574  3.42       0.75   \n",
       "1597                 32.0                  44.0  0.99547  3.57       0.71   \n",
       "1598                 18.0                  42.0  0.99549  3.39       0.66   \n",
       "\n",
       "      alcohol  quality  \n",
       "0         9.4        5  \n",
       "1         9.8        5  \n",
       "2         9.8        5  \n",
       "3         9.8        6  \n",
       "4         9.4        5  \n",
       "...       ...      ...  \n",
       "1594     10.5        5  \n",
       "1595     11.2        6  \n",
       "1596     11.0        6  \n",
       "1597     10.2        5  \n",
       "1598     11.0        6  \n",
       "\n",
       "[1599 rows x 12 columns]"
      ]
     },
     "execution_count": 22,
     "metadata": {},
     "output_type": "execute_result"
    }
   ],
   "source": [
    "Table"
   ]
  },
  {
   "cell_type": "code",
   "execution_count": 64,
   "id": "5c23ff97",
   "metadata": {},
   "outputs": [],
   "source": [
    "# To split the data into X and y\n",
    "X = Table.copy()\n",
    "y = X.pop(\"quality\")"
   ]
  },
  {
   "cell_type": "code",
   "execution_count": 65,
   "id": "506e178e",
   "metadata": {
    "scrolled": true
   },
   "outputs": [
    {
     "data": {
      "text/plain": [
       "(1599, 11)"
      ]
     },
     "execution_count": 65,
     "metadata": {},
     "output_type": "execute_result"
    }
   ],
   "source": [
    "# To check for the number of features in x\n",
    "X.shape"
   ]
  },
  {
   "cell_type": "code",
   "execution_count": 66,
   "id": "541d8a6f",
   "metadata": {},
   "outputs": [],
   "source": [
    "# To get the 11 from above result, use the index number\n",
    "input_shape1 = X.shape[1]"
   ]
  },
  {
   "cell_type": "code",
   "execution_count": 67,
   "id": "d0257c3d",
   "metadata": {},
   "outputs": [],
   "source": [
    "# Split the data into train and validation\n",
    "from sklearn.model_selection import train_test_split\n",
    "x_train,x_val,y_train, y_val = train_test_split(X, y, test_size = 0.2, random_state = 42)"
   ]
  },
  {
   "cell_type": "markdown",
   "id": "05043ef6",
   "metadata": {},
   "source": [
    "# Note, for regression model, the output layers do not have the Activation function. Activation function is used only for the classification model"
   ]
  },
  {
   "cell_type": "code",
   "execution_count": 68,
   "id": "fb04ca79",
   "metadata": {},
   "outputs": [],
   "source": [
    "network = keras.Sequential([  \n",
    "    layers.Dense(units=3, input_shape=[input_shape1]), # Input layer\n",
    "    layers.Activation('relu'),\n",
    "    \n",
    "      layers.Dense(units=4),  # first hidden layer\n",
    "    layers.Activation('relu'),\n",
    "      layers.Dense(units=4), # second Hidden layer\n",
    "     layers.Activation('relu'),\n",
    "    \n",
    "    \n",
    "      layers.Dense(units=1), # output layer\n",
    "     \n",
    "\n",
    "\n",
    "])"
   ]
  },
  {
   "cell_type": "code",
   "execution_count": 69,
   "id": "1686a5c8",
   "metadata": {},
   "outputs": [
    {
     "data": {
      "text/plain": [
       "[<tf.Variable 'dense_22/kernel:0' shape=(11, 3) dtype=float32, numpy=\n",
       " array([[-0.5269329 , -0.3631694 ,  0.4190706 ],\n",
       "        [-0.3897632 ,  0.09646249, -0.02683353],\n",
       "        [ 0.21066773, -0.5080172 ,  0.3370279 ],\n",
       "        [-0.16645133, -0.517481  ,  0.52296185],\n",
       "        [-0.15037388, -0.3010185 ,  0.57555294],\n",
       "        [-0.15700012, -0.11798269, -0.45868558],\n",
       "        [-0.08327937,  0.21141595,  0.6014099 ],\n",
       "        [ 0.15929282, -0.2318444 , -0.50185305],\n",
       "        [-0.52463895,  0.6066929 ,  0.39566565],\n",
       "        [-0.5375975 ,  0.543728  , -0.03046572],\n",
       "        [-0.44572532,  0.2555824 ,  0.08497912]], dtype=float32)>,\n",
       " <tf.Variable 'dense_22/bias:0' shape=(3,) dtype=float32, numpy=array([0., 0., 0.], dtype=float32)>,\n",
       " <tf.Variable 'dense_23/kernel:0' shape=(3, 4) dtype=float32, numpy=\n",
       " array([[ 0.6425191 ,  0.2583319 ,  0.68531024, -0.39942533],\n",
       "        [ 0.53315425, -0.16338766,  0.92478836,  0.40159917],\n",
       "        [-0.15459323,  0.3322718 ,  0.8701831 ,  0.5702263 ]],\n",
       "       dtype=float32)>,\n",
       " <tf.Variable 'dense_23/bias:0' shape=(4,) dtype=float32, numpy=array([0., 0., 0., 0.], dtype=float32)>,\n",
       " <tf.Variable 'dense_24/kernel:0' shape=(4, 4) dtype=float32, numpy=\n",
       " array([[ 0.3243664 , -0.853605  , -0.5384809 , -0.36882573],\n",
       "        [-0.4135275 ,  0.04887426,  0.7107193 , -0.44403422],\n",
       "        [ 0.12632525,  0.6024019 , -0.41135433,  0.1373226 ],\n",
       "        [ 0.4827966 , -0.4150098 , -0.0071125 ,  0.583991  ]],\n",
       "       dtype=float32)>,\n",
       " <tf.Variable 'dense_24/bias:0' shape=(4,) dtype=float32, numpy=array([0., 0., 0., 0.], dtype=float32)>,\n",
       " <tf.Variable 'dense_25/kernel:0' shape=(4, 1) dtype=float32, numpy=\n",
       " array([[-0.7088586 ],\n",
       "        [-0.916561  ],\n",
       "        [ 0.33398128],\n",
       "        [ 1.0027592 ]], dtype=float32)>,\n",
       " <tf.Variable 'dense_25/bias:0' shape=(1,) dtype=float32, numpy=array([0.], dtype=float32)>]"
      ]
     },
     "execution_count": 69,
     "metadata": {},
     "output_type": "execute_result"
    }
   ],
   "source": [
    "# Then check for the network weights\n",
    "network.weights"
   ]
  },
  {
   "cell_type": "code",
   "execution_count": 72,
   "id": "e7e85cad",
   "metadata": {},
   "outputs": [],
   "source": [
    "# Loss function for regression\n",
    "network.compile(loss = 'mae', optimizer = 'adam', metrics = 'mae') "
   ]
  },
  {
   "cell_type": "markdown",
   "id": "52867df7",
   "metadata": {},
   "source": [
    "# Train the model\n",
    "- Training the model\n",
    "- epoch implies that train the model ten times\n",
    "- batch size number of the data set"
   ]
  },
  {
   "cell_type": "code",
   "execution_count": 74,
   "id": "d20d6490",
   "metadata": {},
   "outputs": [
    {
     "name": "stdout",
     "output_type": "stream",
     "text": [
      "Epoch 1/50\n",
      "5/5 [==============================] - 0s 28ms/step - loss: 2.8121 - mae: 2.8121 - val_loss: 2.6760 - val_mae: 2.6760\n",
      "Epoch 2/50\n",
      "5/5 [==============================] - 0s 14ms/step - loss: 2.8006 - mae: 2.8006 - val_loss: 2.6549 - val_mae: 2.6549\n",
      "Epoch 3/50\n",
      "5/5 [==============================] - 0s 13ms/step - loss: 2.7805 - mae: 2.7805 - val_loss: 2.6276 - val_mae: 2.6276\n",
      "Epoch 4/50\n",
      "5/5 [==============================] - 0s 13ms/step - loss: 2.7457 - mae: 2.7457 - val_loss: 2.5972 - val_mae: 2.5972\n",
      "Epoch 5/50\n",
      "5/5 [==============================] - 0s 14ms/step - loss: 2.7070 - mae: 2.7070 - val_loss: 2.5692 - val_mae: 2.5692\n",
      "Epoch 6/50\n",
      "5/5 [==============================] - 0s 13ms/step - loss: 2.6722 - mae: 2.6722 - val_loss: 2.5458 - val_mae: 2.5458\n",
      "Epoch 7/50\n",
      "5/5 [==============================] - 0s 13ms/step - loss: 2.6411 - mae: 2.6411 - val_loss: 2.5257 - val_mae: 2.5257\n",
      "Epoch 8/50\n",
      "5/5 [==============================] - 0s 14ms/step - loss: 2.6145 - mae: 2.6145 - val_loss: 2.5052 - val_mae: 2.5052\n",
      "Epoch 9/50\n",
      "5/5 [==============================] - 0s 13ms/step - loss: 2.5901 - mae: 2.5901 - val_loss: 2.4838 - val_mae: 2.4838\n",
      "Epoch 10/50\n",
      "5/5 [==============================] - 0s 15ms/step - loss: 2.5650 - mae: 2.5650 - val_loss: 2.4589 - val_mae: 2.4589\n",
      "Epoch 11/50\n",
      "5/5 [==============================] - 0s 14ms/step - loss: 2.5394 - mae: 2.5394 - val_loss: 2.4329 - val_mae: 2.4329\n",
      "Epoch 12/50\n",
      "5/5 [==============================] - 0s 14ms/step - loss: 2.5143 - mae: 2.5143 - val_loss: 2.4067 - val_mae: 2.4067\n",
      "Epoch 13/50\n",
      "5/5 [==============================] - 0s 14ms/step - loss: 2.4898 - mae: 2.4898 - val_loss: 2.3790 - val_mae: 2.3790\n",
      "Epoch 14/50\n",
      "5/5 [==============================] - 0s 13ms/step - loss: 2.4645 - mae: 2.4645 - val_loss: 2.3538 - val_mae: 2.3538\n",
      "Epoch 15/50\n",
      "5/5 [==============================] - 0s 13ms/step - loss: 2.4407 - mae: 2.4407 - val_loss: 2.3287 - val_mae: 2.3287\n",
      "Epoch 16/50\n",
      "5/5 [==============================] - 0s 14ms/step - loss: 2.4165 - mae: 2.4165 - val_loss: 2.3072 - val_mae: 2.3072\n",
      "Epoch 17/50\n",
      "5/5 [==============================] - 0s 13ms/step - loss: 2.3895 - mae: 2.3895 - val_loss: 2.2835 - val_mae: 2.2835\n",
      "Epoch 18/50\n",
      "5/5 [==============================] - 0s 15ms/step - loss: 2.3645 - mae: 2.3645 - val_loss: 2.2582 - val_mae: 2.2582\n",
      "Epoch 19/50\n",
      "5/5 [==============================] - 0s 15ms/step - loss: 2.3385 - mae: 2.3385 - val_loss: 2.2333 - val_mae: 2.2333\n",
      "Epoch 20/50\n",
      "5/5 [==============================] - 0s 14ms/step - loss: 2.3131 - mae: 2.3131 - val_loss: 2.2091 - val_mae: 2.2091\n",
      "Epoch 21/50\n",
      "5/5 [==============================] - 0s 15ms/step - loss: 2.2850 - mae: 2.2850 - val_loss: 2.1813 - val_mae: 2.1813\n",
      "Epoch 22/50\n",
      "5/5 [==============================] - 0s 15ms/step - loss: 2.2568 - mae: 2.2568 - val_loss: 2.1535 - val_mae: 2.1535\n",
      "Epoch 23/50\n",
      "5/5 [==============================] - 0s 13ms/step - loss: 2.2275 - mae: 2.2275 - val_loss: 2.1257 - val_mae: 2.1257\n",
      "Epoch 24/50\n",
      "5/5 [==============================] - 0s 13ms/step - loss: 2.1964 - mae: 2.1964 - val_loss: 2.0952 - val_mae: 2.0952\n",
      "Epoch 25/50\n",
      "5/5 [==============================] - 0s 14ms/step - loss: 2.1642 - mae: 2.1642 - val_loss: 2.0645 - val_mae: 2.0645\n",
      "Epoch 26/50\n",
      "5/5 [==============================] - 0s 13ms/step - loss: 2.1306 - mae: 2.1306 - val_loss: 2.0315 - val_mae: 2.0315\n",
      "Epoch 27/50\n",
      "5/5 [==============================] - 0s 12ms/step - loss: 2.0945 - mae: 2.0945 - val_loss: 1.9965 - val_mae: 1.9965\n",
      "Epoch 28/50\n",
      "5/5 [==============================] - 0s 14ms/step - loss: 2.0557 - mae: 2.0557 - val_loss: 1.9594 - val_mae: 1.9594\n",
      "Epoch 29/50\n",
      "5/5 [==============================] - 0s 13ms/step - loss: 2.0157 - mae: 2.0157 - val_loss: 1.9192 - val_mae: 1.9192\n",
      "Epoch 30/50\n",
      "5/5 [==============================] - 0s 13ms/step - loss: 1.9716 - mae: 1.9716 - val_loss: 1.8782 - val_mae: 1.8782\n",
      "Epoch 31/50\n",
      "5/5 [==============================] - 0s 12ms/step - loss: 1.9250 - mae: 1.9250 - val_loss: 1.8324 - val_mae: 1.8324\n",
      "Epoch 32/50\n",
      "5/5 [==============================] - 0s 14ms/step - loss: 1.8742 - mae: 1.8742 - val_loss: 1.7841 - val_mae: 1.7841\n",
      "Epoch 33/50\n",
      "5/5 [==============================] - 0s 15ms/step - loss: 1.8199 - mae: 1.8199 - val_loss: 1.7308 - val_mae: 1.7308\n",
      "Epoch 34/50\n",
      "5/5 [==============================] - 0s 19ms/step - loss: 1.7607 - mae: 1.7607 - val_loss: 1.6723 - val_mae: 1.6723\n",
      "Epoch 35/50\n",
      "5/5 [==============================] - 0s 13ms/step - loss: 1.6952 - mae: 1.6952 - val_loss: 1.6098 - val_mae: 1.6098\n",
      "Epoch 36/50\n",
      "5/5 [==============================] - 0s 13ms/step - loss: 1.6260 - mae: 1.6260 - val_loss: 1.5424 - val_mae: 1.5424\n",
      "Epoch 37/50\n",
      "5/5 [==============================] - 0s 13ms/step - loss: 1.5533 - mae: 1.5533 - val_loss: 1.4712 - val_mae: 1.4712\n",
      "Epoch 38/50\n",
      "5/5 [==============================] - 0s 15ms/step - loss: 1.4731 - mae: 1.4731 - val_loss: 1.3924 - val_mae: 1.3924\n",
      "Epoch 39/50\n",
      "5/5 [==============================] - 0s 15ms/step - loss: 1.3872 - mae: 1.3872 - val_loss: 1.3120 - val_mae: 1.3120\n",
      "Epoch 40/50\n",
      "5/5 [==============================] - 0s 15ms/step - loss: 1.2972 - mae: 1.2972 - val_loss: 1.2281 - val_mae: 1.2281\n",
      "Epoch 41/50\n",
      "5/5 [==============================] - 0s 13ms/step - loss: 1.2066 - mae: 1.2066 - val_loss: 1.1461 - val_mae: 1.1461\n",
      "Epoch 42/50\n",
      "5/5 [==============================] - 0s 13ms/step - loss: 1.1112 - mae: 1.1112 - val_loss: 1.0562 - val_mae: 1.0562\n",
      "Epoch 43/50\n",
      "5/5 [==============================] - 0s 14ms/step - loss: 1.0158 - mae: 1.0158 - val_loss: 0.9746 - val_mae: 0.9746\n",
      "Epoch 44/50\n",
      "5/5 [==============================] - 0s 14ms/step - loss: 0.9270 - mae: 0.9270 - val_loss: 0.8951 - val_mae: 0.8951\n",
      "Epoch 45/50\n",
      "5/5 [==============================] - 0s 13ms/step - loss: 0.8393 - mae: 0.8393 - val_loss: 0.8256 - val_mae: 0.8256\n",
      "Epoch 46/50\n",
      "5/5 [==============================] - 0s 13ms/step - loss: 0.7705 - mae: 0.7705 - val_loss: 0.7652 - val_mae: 0.7652\n",
      "Epoch 47/50\n",
      "5/5 [==============================] - 0s 13ms/step - loss: 0.7124 - mae: 0.7124 - val_loss: 0.7179 - val_mae: 0.7179\n",
      "Epoch 48/50\n",
      "5/5 [==============================] - 0s 13ms/step - loss: 0.6688 - mae: 0.6688 - val_loss: 0.6847 - val_mae: 0.6847\n",
      "Epoch 49/50\n",
      "5/5 [==============================] - 0s 14ms/step - loss: 0.6412 - mae: 0.6412 - val_loss: 0.6557 - val_mae: 0.6557\n",
      "Epoch 50/50\n",
      "5/5 [==============================] - 0s 15ms/step - loss: 0.6285 - mae: 0.6285 - val_loss: 0.6424 - val_mae: 0.6424\n"
     ]
    }
   ],
   "source": [
    "history = network.fit(x=x_train, y=y_train, batch_size = 256, epochs = 50, validation_data =(x_val,y_val))"
   ]
  },
  {
   "cell_type": "code",
   "execution_count": 78,
   "id": "7b808d9d",
   "metadata": {},
   "outputs": [
    {
     "data": {
      "text/plain": [
       "[2.8120808601379395,\n",
       " 2.8006439208984375,\n",
       " 2.7805426120758057,\n",
       " 2.745725393295288,\n",
       " 2.707042694091797,\n",
       " 2.672210693359375,\n",
       " 2.641089677810669,\n",
       " 2.6144704818725586,\n",
       " 2.590122938156128,\n",
       " 2.565037488937378,\n",
       " 2.539381742477417,\n",
       " 2.514348030090332,\n",
       " 2.489816427230835,\n",
       " 2.4644572734832764,\n",
       " 2.4406726360321045,\n",
       " 2.4165453910827637,\n",
       " 2.389505386352539,\n",
       " 2.3645174503326416,\n",
       " 2.3385415077209473,\n",
       " 2.313077688217163,\n",
       " 2.28499436378479,\n",
       " 2.2568459510803223,\n",
       " 2.2274880409240723,\n",
       " 2.196389675140381,\n",
       " 2.1642258167266846,\n",
       " 2.1305813789367676,\n",
       " 2.09446382522583,\n",
       " 2.0557172298431396,\n",
       " 2.01566481590271,\n",
       " 1.971638798713684,\n",
       " 1.9249643087387085,\n",
       " 1.8741611242294312,\n",
       " 1.8199102878570557,\n",
       " 1.7606873512268066,\n",
       " 1.695218563079834,\n",
       " 1.6260308027267456,\n",
       " 1.5533109903335571,\n",
       " 1.4731265306472778,\n",
       " 1.387223482131958,\n",
       " 1.2972376346588135,\n",
       " 1.2066068649291992,\n",
       " 1.1111851930618286,\n",
       " 1.0158356428146362,\n",
       " 0.9270429015159607,\n",
       " 0.8392711877822876,\n",
       " 0.7704945802688599,\n",
       " 0.7123913168907166,\n",
       " 0.6687805652618408,\n",
       " 0.6411773562431335,\n",
       " 0.6284873485565186]"
      ]
     },
     "execution_count": 78,
     "metadata": {},
     "output_type": "execute_result"
    }
   ],
   "source": [
    "history.history['loss']"
   ]
  },
  {
   "cell_type": "code",
   "execution_count": 79,
   "id": "1ac59c3f",
   "metadata": {
    "scrolled": true
   },
   "outputs": [
    {
     "data": {
      "text/plain": [
       "[<matplotlib.lines.Line2D at 0x26a20e0af10>]"
      ]
     },
     "execution_count": 79,
     "metadata": {},
     "output_type": "execute_result"
    },
    {
     "data": {
      "image/png": "[encoded data removed]",
      "text/plain": [
       "<Figure size 640x480 with 1 Axes>"
      ]
     },
     "metadata": {},
     "output_type": "display_data"
    }
   ],
   "source": [
    "plt.plot(history.history['loss'])"
   ]
  },
  {
   "cell_type": "code",
   "execution_count": 85,
   "id": "0feb0c39",
   "metadata": {},
   "outputs": [],
   "source": [
    "network = keras.Sequential([  \n",
    "    layers.Dense(units=3, input_shape=[input_shape1]),# Input layer\n",
    "    layers.Dropout(0.2), # To avoid overfitting\n",
    "    layers.Activation('relu'),\n",
    "    \n",
    "      layers.Dense(units=360),  # first hidden layer\n",
    "     layers.Dropout(0.2), # To avoid overfitting\n",
    "    layers.Activation('tanh'),\n",
    "    \n",
    "      layers.Dense(units=562), # second Hidden layer\n",
    "     layers.Dropout(0.2), # To avoid overfitting\n",
    "     layers.Activation('relu'),\n",
    "    \n",
    "       layers.Dense(units=562), # third Hidden layer\n",
    "     layers.Dropout(0.2), # To avoid overfitting\n",
    "     layers.Activation('relu'),\n",
    "    \n",
    "       layers.Dense(units=562), # fouth Hidden layer\n",
    "     layers.Dropout(0.2), # To avoid overfitting\n",
    "     layers.Activation('relu'),\n",
    "    \n",
    "    \n",
    "      layers.Dense(units=1) # output layer\n",
    "     \n",
    "\n",
    "\n",
    "])"
   ]
  },
  {
   "cell_type": "markdown",
   "id": "8609a7f4",
   "metadata": {},
   "source": [
    " # Define Early Stopping Callback\n",
    "- now define early stopping callback that waits 5 epochs ('patience') for a change in the validation\n",
    "- loss of  atleast 0.001 (min_delta) and keeps the weights with the least loss(restore_best_weights)\n"
   ]
  },
  {
   "cell_type": "code",
   "execution_count": 90,
   "id": "2909ccd3",
   "metadata": {},
   "outputs": [],
   "source": [
    "from tensorflow.keras.callbacks import EarlyStopping\n",
    "\n",
    "# Your CODE HERE: define early stopping callback\n",
    "early_stopping =EarlyStopping(\n",
    "    min_delta = 0.001, # Minimum amount of change to count as an improvement\n",
    "    patience =5, # How many epochs to wait before stopping\n",
    "    restore_best_weights = True\n",
    "    \n",
    ")"
   ]
  },
  {
   "cell_type": "code",
   "execution_count": 91,
   "id": "334d3be4",
   "metadata": {},
   "outputs": [],
   "source": [
    "network.compile(loss = 'mae', optimizer = 'adam', metrics = 'mae') "
   ]
  },
  {
   "cell_type": "code",
   "execution_count": null,
   "id": "eba22dd3",
   "metadata": {},
   "outputs": [],
   "source": []
  },
  {
   "cell_type": "code",
   "execution_count": 92,
   "id": "9552ab18",
   "metadata": {},
   "outputs": [
    {
     "name": "stdout",
     "output_type": "stream",
     "text": [
      "Epoch 1/100\n",
      "5/5 [==============================] - 3s 154ms/step - loss: 1.6458 - mae: 1.6458 - val_loss: 2.2173 - val_mae: 2.2173\n",
      "Epoch 2/100\n",
      "5/5 [==============================] - 0s 66ms/step - loss: 1.3429 - mae: 1.3429 - val_loss: 1.4018 - val_mae: 1.4018\n",
      "Epoch 3/100\n",
      "5/5 [==============================] - 0s 69ms/step - loss: 0.9958 - mae: 0.9958 - val_loss: 0.8805 - val_mae: 0.8805\n",
      "Epoch 4/100\n",
      "5/5 [==============================] - 0s 63ms/step - loss: 0.8791 - mae: 0.8791 - val_loss: 0.8566 - val_mae: 0.8566\n",
      "Epoch 5/100\n",
      "5/5 [==============================] - 0s 67ms/step - loss: 0.8101 - mae: 0.8101 - val_loss: 0.6799 - val_mae: 0.6799\n",
      "Epoch 6/100\n",
      "5/5 [==============================] - 0s 68ms/step - loss: 0.7718 - mae: 0.7718 - val_loss: 0.6706 - val_mae: 0.6706\n",
      "Epoch 7/100\n",
      "5/5 [==============================] - 0s 68ms/step - loss: 0.7382 - mae: 0.7382 - val_loss: 0.6753 - val_mae: 0.6753\n",
      "Epoch 8/100\n",
      "5/5 [==============================] - 0s 66ms/step - loss: 0.7513 - mae: 0.7513 - val_loss: 0.6463 - val_mae: 0.6463\n",
      "Epoch 9/100\n",
      "5/5 [==============================] - 0s 69ms/step - loss: 0.7244 - mae: 0.7244 - val_loss: 0.6672 - val_mae: 0.6672\n",
      "Epoch 10/100\n",
      "5/5 [==============================] - 0s 64ms/step - loss: 0.7233 - mae: 0.7233 - val_loss: 0.6443 - val_mae: 0.6443\n",
      "Epoch 11/100\n",
      "5/5 [==============================] - 0s 66ms/step - loss: 0.7268 - mae: 0.7268 - val_loss: 0.6658 - val_mae: 0.6658\n",
      "Epoch 12/100\n",
      "5/5 [==============================] - 0s 68ms/step - loss: 0.7209 - mae: 0.7209 - val_loss: 0.6849 - val_mae: 0.6849\n",
      "Epoch 13/100\n",
      "5/5 [==============================] - 0s 67ms/step - loss: 0.7463 - mae: 0.7463 - val_loss: 0.7114 - val_mae: 0.7114\n",
      "Epoch 14/100\n",
      "5/5 [==============================] - 0s 66ms/step - loss: 0.7423 - mae: 0.7423 - val_loss: 0.6694 - val_mae: 0.6694\n",
      "Epoch 15/100\n",
      "5/5 [==============================] - 0s 69ms/step - loss: 0.7258 - mae: 0.7258 - val_loss: 0.6589 - val_mae: 0.6589\n"
     ]
    }
   ],
   "source": [
    "# Train the model\n",
    "history = network.fit(x=x_train, y=y_train, batch_size = 256,\n",
    "                      epochs = 100, validation_data =(x_val,y_val),callbacks = [early_stopping])"
   ]
  },
  {
   "cell_type": "code",
   "execution_count": 93,
   "id": "224658b7",
   "metadata": {},
   "outputs": [
    {
     "data": {
      "text/plain": [
       "[<matplotlib.lines.Line2D at 0x26a1d3f37c0>]"
      ]
     },
     "execution_count": 93,
     "metadata": {},
     "output_type": "execute_result"
    },
    {
     "data": {
      "image/png": "[encoded data removed]",
      "text/plain": [
       "<Figure size 640x480 with 1 Axes>"
      ]
     },
     "metadata": {},
     "output_type": "display_data"
    }
   ],
   "source": [
    "plt.plot(history.history['loss'])"
   ]
  },
  {
   "cell_type": "code",
   "execution_count": null,
   "id": "1275e538",
   "metadata": {},
   "outputs": [],
   "source": []
  },
  {
   "cell_type": "code",
   "execution_count": null,
   "id": "2f9e8562",
   "metadata": {},
   "outputs": [],
   "source": []
  },
  {
   "cell_type": "markdown",
   "id": "4d668c91",
   "metadata": {},
   "source": [
    "# Types of model\n",
    "- shadow network:there is no hidden layer\n",
    "- wide network: one or maximum of two hidden layers with a lot of neurons\n",
    "- deep network: minimal neurons and many hidden layers\n",
    "\n",
    "# Kinds of challenges\n",
    "-overfitting: it occurs when then model learns a lot of noise.It learns everything in the data. NB: the model will perform well in trained dataset but perform poorly on unseen or testing data sets.\n",
    "- Underfit: is when a model did not learn all the necessary signal. NB: The model will not perform well for both trained and unseen data sets. \n",
    "_ note; to correct the challenge of overfitting, drop 20% of the total neurons e.g layers.Dropout(0.2)\n"
   ]
  },
  {
   "cell_type": "code",
   "execution_count": 80,
   "id": "2e1cfca5",
   "metadata": {},
   "outputs": [],
   "source": []
  },
  {
   "cell_type": "code",
   "execution_count": null,
   "id": "9dc94145",
   "metadata": {},
   "outputs": [],
   "source": []
  },
  {
   "cell_type": "code",
   "execution_count": null,
   "id": "4c2fa94d",
   "metadata": {},
   "outputs": [],
   "source": []
  },
  {
   "cell_type": "markdown",
   "id": "bec8150c",
   "metadata": {},
   "source": [
    "# Deep Learning on Classification"
   ]
  },
  {
   "cell_type": "code",
   "execution_count": 95,
   "id": "aefa3704",
   "metadata": {},
   "outputs": [],
   "source": [
    "df = pd.read_csv(\"ion.csv\")"
   ]
  },
  {
   "cell_type": "code",
   "execution_count": 96,
   "id": "3d34f86b",
   "metadata": {},
   "outputs": [
    {
     "data": {
      "text/html": [
       "<div>\n",
       "<style scoped>\n",
       "    .dataframe tbody tr th:only-of-type {\n",
       "        vertical-align: middle;\n",
       "    }\n",
       "\n",
       "    .dataframe tbody tr th {\n",
       "        vertical-align: top;\n",
       "    }\n",
       "\n",
       "    .dataframe thead th {\n",
       "        text-align: right;\n",
       "    }\n",
       "</style>\n",
       "<table border=\"1\" class=\"dataframe\">\n",
       "  <thead>\n",
       "    <tr style=\"text-align: right;\">\n",
       "      <th></th>\n",
       "      <th>Unnamed: 0</th>\n",
       "      <th>V1</th>\n",
       "      <th>V2</th>\n",
       "      <th>V3</th>\n",
       "      <th>V4</th>\n",
       "      <th>V5</th>\n",
       "      <th>V6</th>\n",
       "      <th>V7</th>\n",
       "      <th>V8</th>\n",
       "      <th>V9</th>\n",
       "      <th>...</th>\n",
       "      <th>V26</th>\n",
       "      <th>V27</th>\n",
       "      <th>V28</th>\n",
       "      <th>V29</th>\n",
       "      <th>V30</th>\n",
       "      <th>V31</th>\n",
       "      <th>V32</th>\n",
       "      <th>V33</th>\n",
       "      <th>V34</th>\n",
       "      <th>Class</th>\n",
       "    </tr>\n",
       "  </thead>\n",
       "  <tbody>\n",
       "    <tr>\n",
       "      <th>0</th>\n",
       "      <td>1</td>\n",
       "      <td>1</td>\n",
       "      <td>0</td>\n",
       "      <td>0.99539</td>\n",
       "      <td>-0.05889</td>\n",
       "      <td>0.85243</td>\n",
       "      <td>0.02306</td>\n",
       "      <td>0.83398</td>\n",
       "      <td>-0.37708</td>\n",
       "      <td>1.00000</td>\n",
       "      <td>...</td>\n",
       "      <td>-0.51171</td>\n",
       "      <td>0.41078</td>\n",
       "      <td>-0.46168</td>\n",
       "      <td>0.21266</td>\n",
       "      <td>-0.34090</td>\n",
       "      <td>0.42267</td>\n",
       "      <td>-0.54487</td>\n",
       "      <td>0.18641</td>\n",
       "      <td>-0.45300</td>\n",
       "      <td>good</td>\n",
       "    </tr>\n",
       "    <tr>\n",
       "      <th>1</th>\n",
       "      <td>2</td>\n",
       "      <td>1</td>\n",
       "      <td>0</td>\n",
       "      <td>1.00000</td>\n",
       "      <td>-0.18829</td>\n",
       "      <td>0.93035</td>\n",
       "      <td>-0.36156</td>\n",
       "      <td>-0.10868</td>\n",
       "      <td>-0.93597</td>\n",
       "      <td>1.00000</td>\n",
       "      <td>...</td>\n",
       "      <td>-0.26569</td>\n",
       "      <td>-0.20468</td>\n",
       "      <td>-0.18401</td>\n",
       "      <td>-0.19040</td>\n",
       "      <td>-0.11593</td>\n",
       "      <td>-0.16626</td>\n",
       "      <td>-0.06288</td>\n",
       "      <td>-0.13738</td>\n",
       "      <td>-0.02447</td>\n",
       "      <td>bad</td>\n",
       "    </tr>\n",
       "    <tr>\n",
       "      <th>2</th>\n",
       "      <td>3</td>\n",
       "      <td>1</td>\n",
       "      <td>0</td>\n",
       "      <td>1.00000</td>\n",
       "      <td>-0.03365</td>\n",
       "      <td>1.00000</td>\n",
       "      <td>0.00485</td>\n",
       "      <td>1.00000</td>\n",
       "      <td>-0.12062</td>\n",
       "      <td>0.88965</td>\n",
       "      <td>...</td>\n",
       "      <td>-0.40220</td>\n",
       "      <td>0.58984</td>\n",
       "      <td>-0.22145</td>\n",
       "      <td>0.43100</td>\n",
       "      <td>-0.17365</td>\n",
       "      <td>0.60436</td>\n",
       "      <td>-0.24180</td>\n",
       "      <td>0.56045</td>\n",
       "      <td>-0.38238</td>\n",
       "      <td>good</td>\n",
       "    </tr>\n",
       "    <tr>\n",
       "      <th>3</th>\n",
       "      <td>4</td>\n",
       "      <td>1</td>\n",
       "      <td>0</td>\n",
       "      <td>1.00000</td>\n",
       "      <td>-0.45161</td>\n",
       "      <td>1.00000</td>\n",
       "      <td>1.00000</td>\n",
       "      <td>0.71216</td>\n",
       "      <td>-1.00000</td>\n",
       "      <td>0.00000</td>\n",
       "      <td>...</td>\n",
       "      <td>0.90695</td>\n",
       "      <td>0.51613</td>\n",
       "      <td>1.00000</td>\n",
       "      <td>1.00000</td>\n",
       "      <td>-0.20099</td>\n",
       "      <td>0.25682</td>\n",
       "      <td>1.00000</td>\n",
       "      <td>-0.32382</td>\n",
       "      <td>1.00000</td>\n",
       "      <td>bad</td>\n",
       "    </tr>\n",
       "    <tr>\n",
       "      <th>4</th>\n",
       "      <td>5</td>\n",
       "      <td>1</td>\n",
       "      <td>0</td>\n",
       "      <td>1.00000</td>\n",
       "      <td>-0.02401</td>\n",
       "      <td>0.94140</td>\n",
       "      <td>0.06531</td>\n",
       "      <td>0.92106</td>\n",
       "      <td>-0.23255</td>\n",
       "      <td>0.77152</td>\n",
       "      <td>...</td>\n",
       "      <td>-0.65158</td>\n",
       "      <td>0.13290</td>\n",
       "      <td>-0.53206</td>\n",
       "      <td>0.02431</td>\n",
       "      <td>-0.62197</td>\n",
       "      <td>-0.05707</td>\n",
       "      <td>-0.59573</td>\n",
       "      <td>-0.04608</td>\n",
       "      <td>-0.65697</td>\n",
       "      <td>good</td>\n",
       "    </tr>\n",
       "    <tr>\n",
       "      <th>...</th>\n",
       "      <td>...</td>\n",
       "      <td>...</td>\n",
       "      <td>...</td>\n",
       "      <td>...</td>\n",
       "      <td>...</td>\n",
       "      <td>...</td>\n",
       "      <td>...</td>\n",
       "      <td>...</td>\n",
       "      <td>...</td>\n",
       "      <td>...</td>\n",
       "      <td>...</td>\n",
       "      <td>...</td>\n",
       "      <td>...</td>\n",
       "      <td>...</td>\n",
       "      <td>...</td>\n",
       "      <td>...</td>\n",
       "      <td>...</td>\n",
       "      <td>...</td>\n",
       "      <td>...</td>\n",
       "      <td>...</td>\n",
       "      <td>...</td>\n",
       "    </tr>\n",
       "    <tr>\n",
       "      <th>346</th>\n",
       "      <td>347</td>\n",
       "      <td>1</td>\n",
       "      <td>0</td>\n",
       "      <td>0.83508</td>\n",
       "      <td>0.08298</td>\n",
       "      <td>0.73739</td>\n",
       "      <td>-0.14706</td>\n",
       "      <td>0.84349</td>\n",
       "      <td>-0.05567</td>\n",
       "      <td>0.90441</td>\n",
       "      <td>...</td>\n",
       "      <td>-0.04202</td>\n",
       "      <td>0.83479</td>\n",
       "      <td>0.00123</td>\n",
       "      <td>1.00000</td>\n",
       "      <td>0.12815</td>\n",
       "      <td>0.86660</td>\n",
       "      <td>-0.10714</td>\n",
       "      <td>0.90546</td>\n",
       "      <td>-0.04307</td>\n",
       "      <td>good</td>\n",
       "    </tr>\n",
       "    <tr>\n",
       "      <th>347</th>\n",
       "      <td>348</td>\n",
       "      <td>1</td>\n",
       "      <td>0</td>\n",
       "      <td>0.95113</td>\n",
       "      <td>0.00419</td>\n",
       "      <td>0.95183</td>\n",
       "      <td>-0.02723</td>\n",
       "      <td>0.93438</td>\n",
       "      <td>-0.01920</td>\n",
       "      <td>0.94590</td>\n",
       "      <td>...</td>\n",
       "      <td>0.01361</td>\n",
       "      <td>0.93522</td>\n",
       "      <td>0.04925</td>\n",
       "      <td>0.93159</td>\n",
       "      <td>0.08168</td>\n",
       "      <td>0.94066</td>\n",
       "      <td>-0.00035</td>\n",
       "      <td>0.91483</td>\n",
       "      <td>0.04712</td>\n",
       "      <td>good</td>\n",
       "    </tr>\n",
       "    <tr>\n",
       "      <th>348</th>\n",
       "      <td>349</td>\n",
       "      <td>1</td>\n",
       "      <td>0</td>\n",
       "      <td>0.94701</td>\n",
       "      <td>-0.00034</td>\n",
       "      <td>0.93207</td>\n",
       "      <td>-0.03227</td>\n",
       "      <td>0.95177</td>\n",
       "      <td>-0.03431</td>\n",
       "      <td>0.95584</td>\n",
       "      <td>...</td>\n",
       "      <td>0.03193</td>\n",
       "      <td>0.92489</td>\n",
       "      <td>0.02542</td>\n",
       "      <td>0.92120</td>\n",
       "      <td>0.02242</td>\n",
       "      <td>0.92459</td>\n",
       "      <td>0.00442</td>\n",
       "      <td>0.92697</td>\n",
       "      <td>-0.00577</td>\n",
       "      <td>good</td>\n",
       "    </tr>\n",
       "    <tr>\n",
       "      <th>349</th>\n",
       "      <td>350</td>\n",
       "      <td>1</td>\n",
       "      <td>0</td>\n",
       "      <td>0.90608</td>\n",
       "      <td>-0.01657</td>\n",
       "      <td>0.98122</td>\n",
       "      <td>-0.01989</td>\n",
       "      <td>0.95691</td>\n",
       "      <td>-0.03646</td>\n",
       "      <td>0.85746</td>\n",
       "      <td>...</td>\n",
       "      <td>-0.02099</td>\n",
       "      <td>0.89147</td>\n",
       "      <td>-0.07760</td>\n",
       "      <td>0.82983</td>\n",
       "      <td>-0.17238</td>\n",
       "      <td>0.96022</td>\n",
       "      <td>-0.03757</td>\n",
       "      <td>0.87403</td>\n",
       "      <td>-0.16243</td>\n",
       "      <td>good</td>\n",
       "    </tr>\n",
       "    <tr>\n",
       "      <th>350</th>\n",
       "      <td>351</td>\n",
       "      <td>1</td>\n",
       "      <td>0</td>\n",
       "      <td>0.84710</td>\n",
       "      <td>0.13533</td>\n",
       "      <td>0.73638</td>\n",
       "      <td>-0.06151</td>\n",
       "      <td>0.87873</td>\n",
       "      <td>0.08260</td>\n",
       "      <td>0.88928</td>\n",
       "      <td>...</td>\n",
       "      <td>-0.15114</td>\n",
       "      <td>0.81147</td>\n",
       "      <td>-0.04822</td>\n",
       "      <td>0.78207</td>\n",
       "      <td>-0.00703</td>\n",
       "      <td>0.75747</td>\n",
       "      <td>-0.06678</td>\n",
       "      <td>0.85764</td>\n",
       "      <td>-0.06151</td>\n",
       "      <td>good</td>\n",
       "    </tr>\n",
       "  </tbody>\n",
       "</table>\n",
       "<p>351 rows × 36 columns</p>\n",
       "</div>"
      ],
      "text/plain": [
       "     Unnamed: 0  V1  V2       V3       V4       V5       V6       V7       V8  \\\n",
       "0             1   1   0  0.99539 -0.05889  0.85243  0.02306  0.83398 -0.37708   \n",
       "1             2   1   0  1.00000 -0.18829  0.93035 -0.36156 -0.10868 -0.93597   \n",
       "2             3   1   0  1.00000 -0.03365  1.00000  0.00485  1.00000 -0.12062   \n",
       "3             4   1   0  1.00000 -0.45161  1.00000  1.00000  0.71216 -1.00000   \n",
       "4             5   1   0  1.00000 -0.02401  0.94140  0.06531  0.92106 -0.23255   \n",
       "..          ...  ..  ..      ...      ...      ...      ...      ...      ...   \n",
       "346         347   1   0  0.83508  0.08298  0.73739 -0.14706  0.84349 -0.05567   \n",
       "347         348   1   0  0.95113  0.00419  0.95183 -0.02723  0.93438 -0.01920   \n",
       "348         349   1   0  0.94701 -0.00034  0.93207 -0.03227  0.95177 -0.03431   \n",
       "349         350   1   0  0.90608 -0.01657  0.98122 -0.01989  0.95691 -0.03646   \n",
       "350         351   1   0  0.84710  0.13533  0.73638 -0.06151  0.87873  0.08260   \n",
       "\n",
       "          V9  ...      V26      V27      V28      V29      V30      V31  \\\n",
       "0    1.00000  ... -0.51171  0.41078 -0.46168  0.21266 -0.34090  0.42267   \n",
       "1    1.00000  ... -0.26569 -0.20468 -0.18401 -0.19040 -0.11593 -0.16626   \n",
       "2    0.88965  ... -0.40220  0.58984 -0.22145  0.43100 -0.17365  0.60436   \n",
       "3    0.00000  ...  0.90695  0.51613  1.00000  1.00000 -0.20099  0.25682   \n",
       "4    0.77152  ... -0.65158  0.13290 -0.53206  0.02431 -0.62197 -0.05707   \n",
       "..       ...  ...      ...      ...      ...      ...      ...      ...   \n",
       "346  0.90441  ... -0.04202  0.83479  0.00123  1.00000  0.12815  0.86660   \n",
       "347  0.94590  ...  0.01361  0.93522  0.04925  0.93159  0.08168  0.94066   \n",
       "348  0.95584  ...  0.03193  0.92489  0.02542  0.92120  0.02242  0.92459   \n",
       "349  0.85746  ... -0.02099  0.89147 -0.07760  0.82983 -0.17238  0.96022   \n",
       "350  0.88928  ... -0.15114  0.81147 -0.04822  0.78207 -0.00703  0.75747   \n",
       "\n",
       "         V32      V33      V34  Class  \n",
       "0   -0.54487  0.18641 -0.45300   good  \n",
       "1   -0.06288 -0.13738 -0.02447    bad  \n",
       "2   -0.24180  0.56045 -0.38238   good  \n",
       "3    1.00000 -0.32382  1.00000    bad  \n",
       "4   -0.59573 -0.04608 -0.65697   good  \n",
       "..       ...      ...      ...    ...  \n",
       "346 -0.10714  0.90546 -0.04307   good  \n",
       "347 -0.00035  0.91483  0.04712   good  \n",
       "348  0.00442  0.92697 -0.00577   good  \n",
       "349 -0.03757  0.87403 -0.16243   good  \n",
       "350 -0.06678  0.85764 -0.06151   good  \n",
       "\n",
       "[351 rows x 36 columns]"
      ]
     },
     "execution_count": 96,
     "metadata": {},
     "output_type": "execute_result"
    }
   ],
   "source": [
    "df"
   ]
  },
  {
   "cell_type": "code",
   "execution_count": 97,
   "id": "bb519795",
   "metadata": {},
   "outputs": [
    {
     "data": {
      "text/plain": [
       "Unnamed: 0    0\n",
       "V1            0\n",
       "V2            0\n",
       "V3            0\n",
       "V4            0\n",
       "V5            0\n",
       "V6            0\n",
       "V7            0\n",
       "V8            0\n",
       "V9            0\n",
       "V10           0\n",
       "V11           0\n",
       "V12           0\n",
       "V13           0\n",
       "V14           0\n",
       "V15           0\n",
       "V16           0\n",
       "V17           0\n",
       "V18           0\n",
       "V19           0\n",
       "V20           0\n",
       "V21           0\n",
       "V22           0\n",
       "V23           0\n",
       "V24           0\n",
       "V25           0\n",
       "V26           0\n",
       "V27           0\n",
       "V28           0\n",
       "V29           0\n",
       "V30           0\n",
       "V31           0\n",
       "V32           0\n",
       "V33           0\n",
       "V34           0\n",
       "Class         0\n",
       "dtype: int64"
      ]
     },
     "execution_count": 97,
     "metadata": {},
     "output_type": "execute_result"
    }
   ],
   "source": [
    "df.isna().sum()"
   ]
  },
  {
   "cell_type": "code",
   "execution_count": 98,
   "id": "b9b8b1b6",
   "metadata": {},
   "outputs": [],
   "source": [
    "X = df.copy()\n",
    "y = X.pop('Class')"
   ]
  },
  {
   "cell_type": "code",
   "execution_count": 100,
   "id": "6129ed3b",
   "metadata": {},
   "outputs": [
    {
     "data": {
      "text/plain": [
       "0      good\n",
       "1       bad\n",
       "2      good\n",
       "3       bad\n",
       "4      good\n",
       "       ... \n",
       "346    good\n",
       "347    good\n",
       "348    good\n",
       "349    good\n",
       "350    good\n",
       "Name: Class, Length: 351, dtype: object"
      ]
     },
     "execution_count": 100,
     "metadata": {},
     "output_type": "execute_result"
    }
   ],
   "source": [
    "y"
   ]
  },
  {
   "cell_type": "code",
   "execution_count": null,
   "id": "ba430e49",
   "metadata": {},
   "outputs": [],
   "source": []
  }
 ],
 "metadata": {
  "kernelspec": {
   "display_name": "Python 3 (ipykernel)",
   "language": "python",
   "name": "python3"
  },
  "language_info": {
   "codemirror_mode": {
    "name": "ipython",
    "version": 3
   },
   "file_extension": ".py",
   "mimetype": "text/x-python",
   "name": "python",
   "nbconvert_exporter": "python",
   "pygments_lexer": "ipython3",
   "version": "3.9.13"
  }
 },
 "nbformat": 4,
 "nbformat_minor": 5
}
