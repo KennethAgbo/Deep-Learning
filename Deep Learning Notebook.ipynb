{
 "cells": [
  {
   "cell_type": "markdown",
   "id": "ea1e0a01",
   "metadata": {},
   "source": [
    "# Deep Learning\n",
    "Deep learning is method in AI, that focus on teaching computer to process data as inspired by human brain"
   ]
  },
  {
   "cell_type": "code",
   "execution_count": 1,
   "id": "74fcf8f4",
   "metadata": {},
   "outputs": [
    {
     "name": "stdout",
     "output_type": "stream",
     "text": [
      "Requirement already satisfied: pip in c:\\users\\kenneth\\anaconda3\\lib\\site-packages (24.0)Note: you may need to restart the kernel to use updated packages.\n",
      "\n"
     ]
    }
   ],
   "source": [
    "pip install --upgrade pip"
   ]
  },
  {
   "cell_type": "code",
   "execution_count": 2,
   "id": "d0f0b9ff",
   "metadata": {},
   "outputs": [
    {
     "name": "stdout",
     "output_type": "stream",
     "text": [
      "Available Themes: \n",
      "   chesterish\n",
      "   grade3\n",
      "   gruvboxd\n",
      "   gruvboxl\n",
      "   monokai\n",
      "   oceans16\n",
      "   onedork\n",
      "   solarizedd\n",
      "   solarizedl\n"
     ]
    }
   ],
   "source": [
    "!jt -l"
   ]
  },
  {
   "cell_type": "code",
   "execution_count": 3,
   "id": "69cc67b6",
   "metadata": {},
   "outputs": [],
   "source": [
    "#!jt -t oceans16 -T"
   ]
  },
  {
   "cell_type": "code",
   "execution_count": 4,
   "id": "47570712",
   "metadata": {},
   "outputs": [],
   "source": [
    "#pip install tensorflow"
   ]
  },
  {
   "cell_type": "code",
   "execution_count": 5,
   "id": "3ca144b3",
   "metadata": {},
   "outputs": [
    {
     "name": "stderr",
     "output_type": "stream",
     "text": [
      "C:\\Users\\KENNETH\\anaconda3\\lib\\site-packages\\scipy\\__init__.py:155: UserWarning: A NumPy version >=1.18.5 and <1.25.0 is required for this version of SciPy (detected version 1.26.4\n",
      "  warnings.warn(f\"A NumPy version >={np_minversion} and <{np_maxversion}\"\n"
     ]
    },
    {
     "name": "stdout",
     "output_type": "stream",
     "text": [
      "WARNING:tensorflow:From C:\\Users\\KENNETH\\anaconda3\\lib\\site-packages\\keras\\src\\losses.py:2976: The name tf.losses.sparse_softmax_cross_entropy is deprecated. Please use tf.compat.v1.losses.sparse_softmax_cross_entropy instead.\n",
      "\n"
     ]
    }
   ],
   "source": [
    "import tensorflow"
   ]
  },
  {
   "cell_type": "code",
   "execution_count": 6,
   "id": "86ab171b",
   "metadata": {},
   "outputs": [],
   "source": [
    "import numpy as np\n",
    "import matplotlib.pyplot as plt\n",
    "import pandas as pd\n",
    "import tensorflow as tf\n",
    "from tensorflow import keras\n",
    "from tensorflow.keras import layers\n",
    "import warnings\n",
    "warnings.filterwarnings(\"ignore\")"
   ]
  },
  {
   "cell_type": "markdown",
   "id": "6b1bcb4b",
   "metadata": {},
   "source": [
    "# Build the model\n",
    "building a naive model\n",
    "- dense = the line joining the layers\n",
    "- input_shape = the number of features\n",
    "- Backward propagating: commanding the machine to redo a task in order to actualize the desired result"
   ]
  },
  {
   "cell_type": "code",
   "execution_count": 14,
   "id": "78ea35f5",
   "metadata": {},
   "outputs": [],
   "source": [
    "network = keras.Sequential([  \n",
    "    layers.Dense(units=3, input_shape=[1]), # Input layer\n",
    "    layers.Activation('relu'),\n",
    "    \n",
    "      layers.Dense(units=4),  # first hidden layer\n",
    "    layers.Activation('relu'),\n",
    "      layers.Dense(units=4), # second Hidden layer\n",
    "     layers.Activation('relu'),\n",
    "    \n",
    "    \n",
    "      layers.Dense(units=1), # output layer\n",
    "     layers.Activation('relu')\n",
    "\n",
    "\n",
    "])"
   ]
  },
  {
   "cell_type": "code",
   "execution_count": 15,
   "id": "30dd20a2",
   "metadata": {},
   "outputs": [
    {
     "data": {
      "text/plain": [
       "[<tf.Variable 'dense_4/kernel:0' shape=(1, 3) dtype=float32, numpy=array([[0.49190116, 0.89739096, 0.01768303]], dtype=float32)>,\n",
       " <tf.Variable 'dense_4/bias:0' shape=(3,) dtype=float32, numpy=array([0., 0., 0.], dtype=float32)>,\n",
       " <tf.Variable 'dense_5/kernel:0' shape=(3, 4) dtype=float32, numpy=\n",
       " array([[-0.8183897 ,  0.64281166, -0.53851235, -0.68211555],\n",
       "        [-0.8488782 , -0.35720468,  0.5621023 , -0.8135634 ],\n",
       "        [ 0.1835686 ,  0.5546752 ,  0.36758947,  0.04504138]],\n",
       "       dtype=float32)>,\n",
       " <tf.Variable 'dense_5/bias:0' shape=(4,) dtype=float32, numpy=array([0., 0., 0., 0.], dtype=float32)>,\n",
       " <tf.Variable 'dense_6/kernel:0' shape=(4, 4) dtype=float32, numpy=\n",
       " array([[ 0.8340818 ,  0.21695441,  0.74972206, -0.26206005],\n",
       "        [ 0.86230844, -0.23001361,  0.44557065,  0.7790131 ],\n",
       "        [-0.07655203, -0.45329365, -0.49625233, -0.00825268],\n",
       "        [ 0.47472328, -0.06916368,  0.22137815,  0.15144104]],\n",
       "       dtype=float32)>,\n",
       " <tf.Variable 'dense_6/bias:0' shape=(4,) dtype=float32, numpy=array([0., 0., 0., 0.], dtype=float32)>,\n",
       " <tf.Variable 'dense_7/kernel:0' shape=(4, 1) dtype=float32, numpy=\n",
       " array([[ 0.09140277],\n",
       "        [ 0.8417659 ],\n",
       "        [-0.12620372],\n",
       "        [ 0.25230443]], dtype=float32)>,\n",
       " <tf.Variable 'dense_7/bias:0' shape=(1,) dtype=float32, numpy=array([0.], dtype=float32)>]"
      ]
     },
     "execution_count": 15,
     "metadata": {},
     "output_type": "execute_result"
    }
   ],
   "source": [
    "network.weights"
   ]
  },
  {
   "cell_type": "code",
   "execution_count": 16,
   "id": "57380ed5",
   "metadata": {},
   "outputs": [
    {
     "name": "stdout",
     "output_type": "stream",
     "text": [
      "4/4 [==============================] - 0s 3ms/step\n"
     ]
    }
   ],
   "source": [
    "x = tf.linspace(-1.0,1.0, 100)\n",
    "y = network.predict(x)"
   ]
  },
  {
   "cell_type": "code",
   "execution_count": null,
   "id": "ad197a99",
   "metadata": {},
   "outputs": [],
   "source": []
  },
  {
   "cell_type": "code",
   "execution_count": 17,
   "id": "5edcf598",
   "metadata": {},
   "outputs": [
    {
     "data": {
      "text/plain": [
       "[<matplotlib.lines.Line2D at 0x28195c008e0>]"
      ]
     },
     "execution_count": 17,
     "metadata": {},
     "output_type": "execute_result"
    },
    {
     "data": {
      "image/png": "[encoded data removed]",
      "text/plain": [
       "<Figure size 640x480 with 1 Axes>"
      ]
     },
     "metadata": {},
     "output_type": "display_data"
    }
   ],
   "source": [
    "plt.plot(x,y,'k')"
   ]
  },
  {
   "cell_type": "code",
   "execution_count": null,
   "id": "ed776fe4",
   "metadata": {},
   "outputs": [],
   "source": []
  },
  {
   "cell_type": "markdown",
   "id": "b6763649",
   "metadata": {},
   "source": [
    "# Compile the model\n",
    "what to do and how to do it\n",
    "- matrics used for improvement of the model while in classification, it is used for evaluation"
   ]
  },
  {
   "cell_type": "code",
   "execution_count": null,
   "id": "78675f68",
   "metadata": {},
   "outputs": [],
   "source": [
    "# Loss function for regression\n",
    "# network.compile(loss = 'mean_squared_error', optimizer = 'adam', metrics = 'mean_squared_error')\n",
    "# network.compile(loss = 'mean_absolute_error', optimizer = 'your_optimizer') "
   ]
  },
  {
   "cell_type": "code",
   "execution_count": null,
   "id": "89f95e6e",
   "metadata": {},
   "outputs": [],
   "source": [
    "# # Loss function for classification\n",
    " network.compile(Loss= 'binary_crossentropy',optimizer= 'adam')\n",
    "# network.compile(Loss= 'categorical_crossentropy',optimizer= 'your_optimizer')\n",
    "# network.compile(Loss= 'sparse_categorical_crossentropy',optimizer= 'your_optimizer')\n",
    "# network.compile(Loss= 'hinge',optimizer= 'your_optimizer')\n",
    "# network.compile(Loss= 'kullback_leibler_divergence',optimizer= 'your_optimizer')"
   ]
  },
  {
   "cell_type": "code",
   "execution_count": null,
   "id": "64fce995",
   "metadata": {},
   "outputs": [],
   "source": []
  },
  {
   "cell_type": "markdown",
   "id": "6ecb464d",
   "metadata": {},
   "source": [
    "# Train the model\n",
    "training the machine"
   ]
  },
  {
   "cell_type": "code",
   "execution_count": null,
   "id": "b9af4534",
   "metadata": {},
   "outputs": [],
   "source": [
    "history = network.fit(x= ,y= , batch_size=200, epochs=10)"
   ]
  }
 ],
 "metadata": {
  "kernelspec": {
   "display_name": "Python 3 (ipykernel)",
   "language": "python",
   "name": "python3"
  },
  "language_info": {
   "codemirror_mode": {
    "name": "ipython",
    "version": 3
   },
   "file_extension": ".py",
   "mimetype": "text/x-python",
   "name": "python",
   "nbconvert_exporter": "python",
   "pygments_lexer": "ipython3",
   "version": "3.9.13"
  }
 },
 "nbformat": 4,
 "nbformat_minor": 5
}
